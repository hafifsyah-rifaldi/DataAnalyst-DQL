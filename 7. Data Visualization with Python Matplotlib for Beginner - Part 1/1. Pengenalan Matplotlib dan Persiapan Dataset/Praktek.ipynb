{
  "nbformat": 4,
  "nbformat_minor": 0,
  "metadata": {
    "colab": {
      "provenance": []
    },
    "kernelspec": {
      "name": "python3",
      "display_name": "Python 3"
    },
    "language_info": {
      "name": "python"
    }
  },
  "cells": [
    {
      "cell_type": "markdown",
      "source": [
        "**Pengenalan Dataset**\n",
        "\n",
        "Berbeda seperti hari-hari sebelumnya, hari ini aku berkesempatan hadir dalam rapat bersama Andra.\n",
        "\n",
        "“Halo rekan-rekan semua, selamat datang di meeting ini untuk melihat performa bisnis kita. Aksara, tolong perlihatkan isi file raw data penjualan yang saya share tadi. Nanti akan saya jelaskan isinya,” pinta Andra membuka rapat pertama yang kuikuti sejak berada di divisi baru ini.\n",
        "\n",
        "“Oke. Datanya ada di file 'https://storage.googleapis.com/dqlab-dataset/retail_raw_reduced.csv' ini, sebentar aku buka isinya,” jawabku cepat sembari mengetikkan kode berikut di code editor:"
      ],
      "metadata": {
        "id": "n9CAhEoQzrmY"
      }
    },
    {
      "cell_type": "code",
      "execution_count": 1,
      "metadata": {
        "colab": {
          "base_uri": "https://localhost:8080/"
        },
        "id": "6igjbPABzGo4",
        "outputId": "d34a5192-ae5e-40ae-c928-940c28db7651"
      },
      "outputs": [
        {
          "output_type": "stream",
          "name": "stdout",
          "text": [
            "Ukuran dataset: 5000 baris dan 9 kolom\n",
            "\n",
            "Lima data teratas:\n",
            "   order_id  order_date  customer_id             city     province product_id  \\\n",
            "0   1703458  2019-10-17        14004  Jakarta Selatan  DKI Jakarta      P1910   \n",
            "1   1706815  2019-10-24        17220  Jakarta Selatan  DKI Jakarta      P2934   \n",
            "2   1710718  2019-11-03        16518    Jakarta Utara  DKI Jakarta      P0908   \n",
            "3   1683592  2019-08-19        16364    Jakarta Barat  DKI Jakarta      P0128   \n",
            "4   1702573  2019-10-16        15696    Jakarta Timur  DKI Jakarta      P2968   \n",
            "\n",
            "     brand  quantity  item_price  \n",
            "0  BRAND_J        10      740000  \n",
            "1  BRAND_R         2      604000  \n",
            "2  BRAND_C         8     1045000  \n",
            "3  BRAND_A         4      205000  \n",
            "4  BRAND_R         2     4475000  \n"
          ]
        }
      ],
      "source": [
        "import pandas as pd\n",
        "dataset = pd.read_csv('https://storage.googleapis.com/dqlab-dataset/retail_raw_reduced.csv')\n",
        "print('Ukuran dataset: %d baris dan %d kolom\\n' % dataset.shape)\n",
        "print('Lima data teratas:')\n",
        "print(dataset.head())"
      ]
    },
    {
      "cell_type": "markdown",
      "source": [
        "**Penambahan Kolom Order Month pada Dataset**\n",
        "\n",
        "Untuk membuat grafik GMV bulanan, bayangan kita tentu adalah sebuah line chart dengan sumbu-x berupa bulan, dan sumbu-y adalah total GMV di bulan tersebut. Pasti bisa,” lanjutku.\n",
        "\n",
        "Aku tahu kalau aku dan Andra belum punya kolom bulan, baru ada order_date yang merupakan tanggal transaksi. Tapi, tidak masalah. Aku bisa membuat kolom baru order_month dengan kode seperti ini:"
      ],
      "metadata": {
        "id": "A0PhxaNn1M8J"
      }
    },
    {
      "cell_type": "code",
      "source": [
        "import pandas as pd\n",
        "import datetime\n",
        "\n",
        "dataset = pd.read_csv('https://storage.googleapis.com/dqlab-dataset/retail_raw_reduced.csv')\n",
        "\n",
        "dataset['order_month'] = dataset['order_date'].apply(lambda x:datetime.datetime.strptime(x, \"%Y-%m-%d\").strftime('%Y-%m'))\n",
        "print(dataset.head())"
      ],
      "metadata": {
        "colab": {
          "base_uri": "https://localhost:8080/"
        },
        "id": "6V0JdBGQ1Snu",
        "outputId": "78382557-4fc0-4b3b-fb24-0ce422379fba"
      },
      "execution_count": 2,
      "outputs": [
        {
          "output_type": "stream",
          "name": "stdout",
          "text": [
            "   order_id  order_date  customer_id             city     province product_id  \\\n",
            "0   1703458  2019-10-17        14004  Jakarta Selatan  DKI Jakarta      P1910   \n",
            "1   1706815  2019-10-24        17220  Jakarta Selatan  DKI Jakarta      P2934   \n",
            "2   1710718  2019-11-03        16518    Jakarta Utara  DKI Jakarta      P0908   \n",
            "3   1683592  2019-08-19        16364    Jakarta Barat  DKI Jakarta      P0128   \n",
            "4   1702573  2019-10-16        15696    Jakarta Timur  DKI Jakarta      P2968   \n",
            "\n",
            "     brand  quantity  item_price order_month  \n",
            "0  BRAND_J        10      740000     2019-10  \n",
            "1  BRAND_R         2      604000     2019-10  \n",
            "2  BRAND_C         8     1045000     2019-11  \n",
            "3  BRAND_A         4      205000     2019-08  \n",
            "4  BRAND_R         2     4475000     2019-10  \n"
          ]
        }
      ]
    },
    {
      "cell_type": "markdown",
      "source": [
        "Ada beberapa function yang berperan di sini:\n",
        "\n",
        "\n",
        "* apply & lambda biasa digunakan untuk membuat kolom baru, berdasarkan \n",
        "suatu kolom lain yang sudah ada (misal .apply(lambda x: x*2) berarti setiap input x di dalam kolom, akan diubah menjadi x*2). Dalam hal ini kolom yang sudah ada adalah dataset['order_date'], lalu tiap nilai di dalamnya kita proses agar menjadi month-nya saja\n",
        "* Function datetime.datetime.strptime digunakan untuk mengubah date/time dalam bentuk string menjadi tipe data datetime.\n",
        "\n",
        "* Function strftime digunakan untuk mengubah format suatu data bertipe datetime, dalam hal ini diubah menjadi '%Y-%m', yang berarti output-nya adalah waktu dengan bentuk YYYY-MM atau tahun dan bulan saja, tanggalnya sudah tidak ada. \n",
        "\n",
        "\n",
        "\n",
        "\n",
        "\n",
        "\n"
      ],
      "metadata": {
        "id": "ewyM-O-u1X8g"
      }
    },
    {
      "cell_type": "markdown",
      "source": [
        "**Penambahan Kolom GMV pada Dataset**\n",
        "\n",
        "Selanjutnya, bagaimana dengan GMV? Definisikan GMV adalah perkalian setiap entri di kolom item_price dan kolom quantity. Bisa saja menggunakan fungsi apply & lambda seperti tadi, tetapi ada cara yang lebih mudah yaitu dengan mengalikan kedua kolom yang disebutkan secara langsung."
      ],
      "metadata": {
        "id": "PmhxHdZ72MbZ"
      }
    },
    {
      "cell_type": "code",
      "source": [
        "import pandas as pd\n",
        "import datetime\n",
        "\n",
        "dataset = pd.read_csv('https://storage.googleapis.com/dqlab-dataset/retail_raw_reduced.csv')\n",
        "dataset['order_month'] = dataset['order_date'].apply(lambda x: datetime.datetime.strptime(x, \"%Y-%m-%d\").strftime('%Y-%m'))\n",
        "\n",
        "dataset['gmv'] = dataset['item_price']*dataset['quantity']\n",
        "print('Ukuran dataset: %d baris dan %d kolom\\n' % dataset.shape)\n",
        "print('Lima data teratas:')\n",
        "print(dataset.head())"
      ],
      "metadata": {
        "colab": {
          "base_uri": "https://localhost:8080/"
        },
        "id": "YFFhwSsF2MHY",
        "outputId": "ad31d9cf-5576-4f96-a8b3-5312acc45889"
      },
      "execution_count": 3,
      "outputs": [
        {
          "output_type": "stream",
          "name": "stdout",
          "text": [
            "Ukuran dataset: 5000 baris dan 11 kolom\n",
            "\n",
            "Lima data teratas:\n",
            "   order_id  order_date  customer_id             city     province product_id  \\\n",
            "0   1703458  2019-10-17        14004  Jakarta Selatan  DKI Jakarta      P1910   \n",
            "1   1706815  2019-10-24        17220  Jakarta Selatan  DKI Jakarta      P2934   \n",
            "2   1710718  2019-11-03        16518    Jakarta Utara  DKI Jakarta      P0908   \n",
            "3   1683592  2019-08-19        16364    Jakarta Barat  DKI Jakarta      P0128   \n",
            "4   1702573  2019-10-16        15696    Jakarta Timur  DKI Jakarta      P2968   \n",
            "\n",
            "     brand  quantity  item_price order_month      gmv  \n",
            "0  BRAND_J        10      740000     2019-10  7400000  \n",
            "1  BRAND_R         2      604000     2019-10  1208000  \n",
            "2  BRAND_C         8     1045000     2019-11  8360000  \n",
            "3  BRAND_A         4      205000     2019-08   820000  \n",
            "4  BRAND_R         2     4475000     2019-10  8950000  \n"
          ]
        }
      ]
    }
  ]
}