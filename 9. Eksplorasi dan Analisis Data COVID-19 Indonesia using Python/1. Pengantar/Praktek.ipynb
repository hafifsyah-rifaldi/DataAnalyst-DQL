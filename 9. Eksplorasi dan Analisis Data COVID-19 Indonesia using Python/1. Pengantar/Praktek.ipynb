{
  "nbformat": 4,
  "nbformat_minor": 0,
  "metadata": {
    "colab": {
      "provenance": [],
      "collapsed_sections": []
    },
    "kernelspec": {
      "name": "python3",
      "display_name": "Python 3"
    },
    "language_info": {
      "name": "python"
    }
  },
  "cells": [
    {
      "cell_type": "markdown",
      "source": [
        "**Warming Up!**\n",
        "\n",
        "Sebagai pemanasan sebelum Anda memulai proyek ini, buatlah sebuah vektor karakter dengan 3 elemen dengan nama <code>bersatulawancovid</code> yang merupakan kunci dasar menghindari COVID-19! Jangan lupa untuk mencetak vektor <code>bersatulawancovid</code> tersebut pada layar konsol!"
      ],
      "metadata": {
        "id": "RfPsShxl1r5v"
      }
    },
    {
      "cell_type": "code",
      "source": [
        "bersatulawancovid = ['cuci tangan', 'pakai masker', 'jaga jarak']\n",
        "print(bersatulawancovid)"
      ],
      "metadata": {
        "colab": {
          "base_uri": "https://localhost:8080/"
        },
        "id": "fPAj8LoK11P3",
        "outputId": "4221c429-a7a1-49fe-da3b-a48b960678f4"
      },
      "execution_count": 1,
      "outputs": [
        {
          "output_type": "stream",
          "name": "stdout",
          "text": [
            "['cuci tangan', 'pakai masker', 'jaga jarak']\n"
          ]
        }
      ]
    },
    {
      "cell_type": "markdown",
      "source": [
        "**Are You Ready?**\n",
        "\n",
        "Dalam proyek ini, Anda akan diminta untuk melakukan eksplorasi dan analisis mengenai COVID-19 di Indonesia. Data yang Anda pergunakan diambil langsung dari API (Application Programming Interface) yang tersedia di covid19.go.id. Sehingga dalam proyek ini Anda akan mempelajari teknik mengambil data dari API, teknik mempersiapkan data, serta analisis dan visualisasi data.\n",
        "\n",
        "Apakah Anda siap untuk mengerjakan proyek analisis data ini? Jawablah dengan mengetikkan <code>True</code> apabila Anda siap atau <code>False</code> jika Anda belum siap karena belum mencuci tangan."
      ],
      "metadata": {
        "id": "3FN9ISwW2MO7"
      }
    },
    {
      "cell_type": "code",
      "source": [
        "True"
      ],
      "metadata": {
        "colab": {
          "base_uri": "https://localhost:8080/"
        },
        "id": "pHlwsaCe2mh4",
        "outputId": "9e5b693c-793f-477e-c7f5-6e29ab451b30"
      },
      "execution_count": 2,
      "outputs": [
        {
          "output_type": "execute_result",
          "data": {
            "text/plain": [
              "True"
            ]
          },
          "metadata": {},
          "execution_count": 2
        }
      ]
    }
  ]
}