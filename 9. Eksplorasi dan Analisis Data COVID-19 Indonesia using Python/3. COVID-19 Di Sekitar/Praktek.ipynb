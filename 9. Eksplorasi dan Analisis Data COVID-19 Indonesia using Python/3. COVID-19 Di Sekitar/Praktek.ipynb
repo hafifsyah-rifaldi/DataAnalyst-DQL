{
  "nbformat": 4,
  "nbformat_minor": 0,
  "metadata": {
    "colab": {
      "provenance": [],
      "collapsed_sections": []
    },
    "kernelspec": {
      "name": "python3",
      "display_name": "Python 3"
    },
    "language_info": {
      "name": "python"
    }
  },
  "cells": [
    {
      "cell_type": "markdown",
      "source": [
        "**Apa Kabar Jawa Barat?**\n",
        "\n",
        "    Info: Dataset telah diperbarui url-nya pada tanggal 6 Juni 2022, \n",
        "    yaitu https://storage.googleapis.com/dqlab-dataset/prov_detail_JAWA_BARAT.json.\n",
        " \n",
        "\n",
        "Anda telah berhasil menjawab pertanyaan mengenai kondisi COVID-19 di Indonesia dengan menggunakan data yang langsung diambil menggunakan API. Namun bagaimana jika Anda ingin berfokus dengan data COVID-19 di provinsi tempat menetap saat ini?\n",
        "\n",
        "covid19.go.id menyediakan data kasus COVID-19 tingkat provinsi di alamat API yang berbeda. Sebagai data mengenai COVID-19 Jawa Barat, tempat tinggal saya sekarang, tersedia di https://storage.googleapis.com/dqlab-dataset/prov_detail_JAWA_BARAT.json."
      ],
      "metadata": {
        "id": "XyufEGUALeOM"
      }
    },
    {
      "cell_type": "code",
      "source": [
        "import requests\n",
        "resp_jabar = requests.get('https://storage.googleapis.com/dqlab-dataset/prov_detail_JAWA_BARAT.json', verify=False)\n",
        "cov_jabar_raw = resp_jabar.json()"
      ],
      "metadata": {
        "colab": {
          "base_uri": "https://localhost:8080/"
        },
        "id": "AudpG7IuLjMI",
        "outputId": "c5291b66-744e-449f-c7b5-76cdd192586e"
      },
      "execution_count": 14,
      "outputs": [
        {
          "output_type": "stream",
          "name": "stderr",
          "text": [
            "/usr/local/lib/python3.7/dist-packages/urllib3/connectionpool.py:847: InsecureRequestWarning: Unverified HTTPS request is being made. Adding certificate verification is strongly advised. See: https://urllib3.readthedocs.io/en/latest/advanced-usage.html#ssl-warnings\n",
            "  InsecureRequestWarning)\n"
          ]
        }
      ]
    },
    {
      "cell_type": "markdown",
      "source": [
        "**Memahami Kasus COVID-19 di Jawa Barat**\n",
        "\n",
        "\n",
        "Sekarang jalankanlah method <code>keys()</code> pada <code>cov_jabar_raw</code> tersebut untuk mengetahui nama-nama elemen utama yang tersedia dan jawablah pertanyaan berikut:\n",
        "\n",
        "- Berapa jumlah total kasus COVID-19 di Jawa Barat?\n",
        "- Berapa persentase kematian akibat COVID-19 di Jawa Barat?\n",
        "- Berapa persentase tingkat kesembuhan dari COVID-19 di Jawa Barat?"
      ],
      "metadata": {
        "id": "8Uj7FRFDMTiB"
      }
    },
    {
      "cell_type": "code",
      "source": [
        "import requests\n",
        "resp_jabar = requests.get('https://storage.googleapis.com/dqlab-dataset/prov_detail_JAWA_BARAT.json', verify=False)\n",
        "cov_jabar_raw = resp_jabar.json()\n",
        "\n",
        "print('Nama-nama elemen utama:\\n', cov_jabar_raw.keys())\n",
        "print('\\nJumlah total kasus COVID-19 di Jawa Barat                 : %d' %cov_jabar_raw['kasus_total'])\n",
        "print('Persentase kematian akibat COVID-19 di Jawa Barat         : %f.2%%' %cov_jabar_raw['meninggal_persen'])\n",
        "print('Persentase tingkat kesembuhan dari COVID-19 di Jawa Barat : %f.2%%' %cov_jabar_raw['sembuh_persen'])"
      ],
      "metadata": {
        "colab": {
          "base_uri": "https://localhost:8080/"
        },
        "id": "IutUfHlyMfbY",
        "outputId": "b413ac20-5778-4f43-acb3-890483532570"
      },
      "execution_count": 15,
      "outputs": [
        {
          "output_type": "stream",
          "name": "stdout",
          "text": [
            "Nama-nama elemen utama:\n",
            " dict_keys(['last_date', 'provinsi', 'kasus_total', 'kasus_tanpa_tgl', 'kasus_dengan_tgl', 'meninggal_persen', 'meninggal_tanpa_tgl', 'meninggal_dengan_tgl', 'sembuh_persen', 'sembuh_tanpa_tgl', 'sembuh_dengan_tgl', 'list_perkembangan', 'data'])\n",
            "\n",
            "Jumlah total kasus COVID-19 di Jawa Barat                 : 1105134\n",
            "Persentase kematian akibat COVID-19 di Jawa Barat         : 1.425619.2%\n",
            "Persentase tingkat kesembuhan dari COVID-19 di Jawa Barat : 98.282380.2%\n"
          ]
        },
        {
          "output_type": "stream",
          "name": "stderr",
          "text": [
            "/usr/local/lib/python3.7/dist-packages/urllib3/connectionpool.py:847: InsecureRequestWarning: Unverified HTTPS request is being made. Adding certificate verification is strongly advised. See: https://urllib3.readthedocs.io/en/latest/advanced-usage.html#ssl-warnings\n",
            "  InsecureRequestWarning)\n"
          ]
        }
      ]
    },
    {
      "cell_type": "markdown",
      "source": [
        "**Memperoleh Informasi yang Lebih Lengkap**\n",
        "\n",
        "\n",
        "Informasi umum mengenai COVID-19 di Jawa Barat telah Anda dapatkan. Namun informasi akan lebih lengkap jika Anda memiliki data perkembangan COVID-19 dari waktu ke waktu, apakah Anda setuju?\n",
        "\n",
        "Kabar baiknya adalah informasi tersebut juga disediakan oleh covid19.go.id melalui permintaan API yang telah Anda buat sebelumnya (atau https://storage.googleapis.com/dqlab-dataset/prov_detail_JAWA_BARAT.json). \n",
        "\n",
        "Data historis perkembangan COVID-19 tersebut tersimpan dengan nama <code>list_perkembangan</code>. Silakan Anda ekstrak data tersebut dari <code>cov_jabar_raw</code> dan untuk lebih memudahkan dalam menginspeksi data ubahlah data bertipe <code>dict</code> ke pandas dataframe. Kemudian simpanlah hasilnya sebagai obyek bernama <code>cov_jabar</code>! Amati struktur <code>cov_jabar</code> menggunakan method <code>info()</code> dan <code>head()</code>."
      ],
      "metadata": {
        "id": "cYcF2VX3NywU"
      }
    },
    {
      "cell_type": "code",
      "source": [
        "import numpy as np\n",
        "import pandas as pd\n",
        "import requests\n",
        "resp_jabar = requests.get('https://storage.googleapis.com/dqlab-dataset/prov_detail_JAWA_BARAT.json', verify=False)\n",
        "cov_jabar_raw = resp_jabar.json()\n",
        "\n",
        "cov_jabar= pd.DataFrame(cov_jabar_raw['list_perkembangan'])\n",
        "print('Info cov_jabar:\\n', cov_jabar.info())\n",
        "print('\\nLima data teratas cov_jabar:\\n', cov_jabar.head())"
      ],
      "metadata": {
        "colab": {
          "base_uri": "https://localhost:8080/"
        },
        "id": "f-dyoo2FOIjW",
        "outputId": "524e39b1-99ae-440e-8abb-7aaa8ac73897"
      },
      "execution_count": 16,
      "outputs": [
        {
          "output_type": "stream",
          "name": "stdout",
          "text": [
            "<class 'pandas.core.frame.DataFrame'>\n",
            "RangeIndex: 785 entries, 0 to 784\n",
            "Data columns (total 9 columns):\n",
            " #   Column                        Non-Null Count  Dtype\n",
            "---  ------                        --------------  -----\n",
            " 0   tanggal                       785 non-null    int64\n",
            " 1   KASUS                         785 non-null    int64\n",
            " 2   MENINGGAL                     785 non-null    int64\n",
            " 3   SEMBUH                        785 non-null    int64\n",
            " 4   DIRAWAT_OR_ISOLASI            785 non-null    int64\n",
            " 5   AKUMULASI_KASUS               785 non-null    int64\n",
            " 6   AKUMULASI_SEMBUH              785 non-null    int64\n",
            " 7   AKUMULASI_MENINGGAL           785 non-null    int64\n",
            " 8   AKUMULASI_DIRAWAT_OR_ISOLASI  785 non-null    int64\n",
            "dtypes: int64(9)\n",
            "memory usage: 55.3 KB\n",
            "Info cov_jabar:\n",
            " None\n",
            "\n",
            "Lima data teratas cov_jabar:\n",
            "          tanggal  KASUS  MENINGGAL  SEMBUH  DIRAWAT_OR_ISOLASI  \\\n",
            "0  1583193600000      1          1       0                   0   \n",
            "1  1583280000000      1          0       0                   1   \n",
            "2  1583366400000      1          0       0                   1   \n",
            "3  1583452800000      1          0       0                   1   \n",
            "4  1583539200000      0          0       0                   0   \n",
            "\n",
            "   AKUMULASI_KASUS  AKUMULASI_SEMBUH  AKUMULASI_MENINGGAL  \\\n",
            "0                1                 0                    1   \n",
            "1                2                 0                    1   \n",
            "2                3                 0                    1   \n",
            "3                4                 0                    1   \n",
            "4                4                 0                    1   \n",
            "\n",
            "   AKUMULASI_DIRAWAT_OR_ISOLASI  \n",
            "0                             0  \n",
            "1                             1  \n",
            "2                             2  \n",
            "3                             3  \n",
            "4                             3  \n"
          ]
        },
        {
          "output_type": "stream",
          "name": "stderr",
          "text": [
            "/usr/local/lib/python3.7/dist-packages/urllib3/connectionpool.py:847: InsecureRequestWarning: Unverified HTTPS request is being made. Adding certificate verification is strongly advised. See: https://urllib3.readthedocs.io/en/latest/advanced-usage.html#ssl-warnings\n",
            "  InsecureRequestWarning)\n"
          ]
        }
      ]
    },
    {
      "cell_type": "markdown",
      "source": [
        "**Menjinakkan Data**\n",
        "\n",
        "\n",
        "Setelah mengekstrak dan mengamati cov_jabar, Anda menemukan beberapa kejanggalan pada data tersebut. Diantaranya adalah kejanggalan data pada kolom tanggal dan format penulisan kolom yang tidak konsisten. Sekarang Anda akan mencoba melakukan beberapa tahapan untuk menjinakan data tersebut sehingga dapat diolah dan dianalisis dengan lebih mudah.\n",
        "\n",
        "Ada beberapa tahapan yang akan Anda lakukan untuk menjinakan data <code>cov_jabar</code>, yaitu:\n",
        "\n",
        "- Menghapus kolom <code>DIRAWAT_OR_ISOLASI</code> dan semua kolom yang berisi nilai kumulatif\n",
        "- Merubah format penulisan semua kolom menjadi huruf kecil\n",
        "- Mengganti nama kolom <code>kasus</code> menjadi <code>kasus_baru</code>\n",
        "- Memperbaiki tipe data pada kolom <code>tanggal</code> menggunakan <code>pd.to_datetime</code>\n",
        "\n",
        "Lengkapilah baris kode berikut untuk melakukan menjinakan data sesuai dengan tahapan yang telah Anda rencanakan! Anda akan menggunakan teknik chaining pada dataframe. Simpan hasil pengolahan Anda dengan nama <code>cov_jabar_tidy</code>."
      ],
      "metadata": {
        "id": "h6k30WW3THle"
      }
    },
    {
      "cell_type": "code",
      "source": [
        "import numpy as np\n",
        "import pandas as pd\n",
        "import requests\n",
        "resp_jabar = requests.get('https://storage.googleapis.com/dqlab-dataset/prov_detail_JAWA_BARAT.json', verify=False)\n",
        "cov_jabar_raw = resp_jabar.json()\n",
        "cov_jabar = pd.DataFrame(cov_jabar_raw['list_perkembangan'])\n",
        "\n",
        "cov_jabar_tidy = (cov_jabar.drop(columns=[item for item in cov_jabar.columns\n",
        "                                               if item.startswith('AKUMULASI') \n",
        "                                                  or item.startswith('DIRAWAT')])\n",
        "                           .rename(columns=str.lower)\n",
        "                           .rename(columns={'kasus': 'kasus_baru'})\n",
        "                  )\n",
        "cov_jabar_tidy['tanggal'] = pd.to_datetime(cov_jabar_tidy['tanggal']*1e6, unit='ns')\n",
        "print('Lima data teratas:\\n', cov_jabar_tidy.head())"
      ],
      "metadata": {
        "colab": {
          "base_uri": "https://localhost:8080/"
        },
        "id": "NHPGDgzoTnZ2",
        "outputId": "5a2a82dd-e5d9-421d-d26c-75f7e09f25a1"
      },
      "execution_count": 17,
      "outputs": [
        {
          "output_type": "stream",
          "name": "stdout",
          "text": [
            "Lima data teratas:\n",
            "      tanggal  kasus_baru  meninggal  sembuh\n",
            "0 2020-03-03           1          1       0\n",
            "1 2020-03-04           1          0       0\n",
            "2 2020-03-05           1          0       0\n",
            "3 2020-03-06           1          0       0\n",
            "4 2020-03-07           0          0       0\n"
          ]
        },
        {
          "output_type": "stream",
          "name": "stderr",
          "text": [
            "/usr/local/lib/python3.7/dist-packages/urllib3/connectionpool.py:847: InsecureRequestWarning: Unverified HTTPS request is being made. Adding certificate verification is strongly advised. See: https://urllib3.readthedocs.io/en/latest/advanced-usage.html#ssl-warnings\n",
            "  InsecureRequestWarning)\n"
          ]
        }
      ]
    },
    {
      "cell_type": "markdown",
      "source": [
        "**Menunjukkan Melalui Gambar**\n",
        "\n",
        "Akhirnya Anda berhasil menjinakan data <code>cov_jabar</code> menjadi <code>cov_jabar_tidy</code> sehingga lebih mudah untuk diolah, selamat! Memiliki data yang rapi memang menyenangkan, apakah Anda setuju dengan hal tersebut?\n",
        "\n",
        "Setelah memiliki data yang jinak, sekarang saatnya Anda mengekspresikan data tersebut dalam bentuk lain yang harapannya lebih mudah dicerna: grafik. Anda akan memulai merancang visualisasi yang memiliki estetika dengan menggunakan library <code>matplotlib</code>. Imporlah library tersebut sebagai aliasnya!"
      ],
      "metadata": {
        "id": "8cDP7U6MTxtM"
      }
    },
    {
      "cell_type": "code",
      "source": [
        "import matplotlib.pyplot as plt"
      ],
      "metadata": {
        "id": "FKz5Ns4kT6Sw"
      },
      "execution_count": 18,
      "outputs": []
    },
    {
      "cell_type": "markdown",
      "source": [
        "**Menunjukkan Melalui Gambar - 2**\n",
        "\n",
        " \n",
        "Berikut merupakan template kode untuk membuat visualisasi menggunakan matplotlib:\n",
        "```\n",
        "fig, ax = plt.subplots(figsize=(...,...))\n",
        "ax.jenis_plot(data=...., x=..., height=....)\n",
        "```\n",
        "\n",
        "\n",
        "Berdasarkan templat tersebut, komponen utama untuk membuat visualisasi antara lain adalah tabel data, kolom data, serta bentuk geometri untuk mempresentasikan data. Sebagai contoh untuk membuat scatter-plot yang diperlukan adalah bentuk geometri titik (<code>.scatter()</code>), line-chart memerlukan geometri garis (<code>.plot()</code>), sedangkan bar-chart memerlukan bentuk geometri batang atau kolom (<code>.bar()</code>).\n",
        "\n",
        "Lengkapi baris kode berikut untuk membuat bar-chart jumlah kasus baru harian COVID-19 di Jawa Barat menggunakan data <code>cov_jabar_tidy</code>! Pergunakan kolom <code>tanggal</code> sebagai sumbu-x."
      ],
      "metadata": {
        "id": "CsbPhTwAT_L0"
      }
    },
    {
      "cell_type": "code",
      "source": [
        "import numpy as np\n",
        "import pandas as pd\n",
        "import requests\n",
        "resp_jabar = requests.get('https://storage.googleapis.com/dqlab-dataset/prov_detail_JAWA_BARAT.json', verify=False)\n",
        "cov_jabar_raw = resp_jabar.json()\n",
        "cov_jabar = pd.DataFrame(cov_jabar_raw['list_perkembangan'])\n",
        "\n",
        "cov_jabar_tidy = (cov_jabar.drop(columns=[item for item in cov_jabar.columns \n",
        "                                               if item.startswith('AKUMULASI') \n",
        "                                                  or item.startswith('DIRAWAT')])\n",
        "                           .rename(columns=str.lower)\n",
        "                           .rename(columns={'kasus': 'kasus_baru'})\n",
        "                  )\n",
        "cov_jabar_tidy['tanggal'] = pd.to_datetime(cov_jabar_tidy['tanggal']*1e6, unit='ns')\n",
        "\n",
        "import matplotlib.pyplot as plt\n",
        "\n",
        "plt.clf()\n",
        "fig, ax = plt.subplots(figsize=(10,5))\n",
        "ax.bar(data=cov_jabar_tidy, x='tanggal', height='kasus_baru')\n",
        "plt.show()"
      ],
      "metadata": {
        "colab": {
          "base_uri": "https://localhost:8080/",
          "height": 395
        },
        "id": "uQpy2BmybW2C",
        "outputId": "eaabe3ed-256e-4aca-df57-5e7ab89fb407"
      },
      "execution_count": 19,
      "outputs": [
        {
          "output_type": "stream",
          "name": "stderr",
          "text": [
            "/usr/local/lib/python3.7/dist-packages/urllib3/connectionpool.py:847: InsecureRequestWarning: Unverified HTTPS request is being made. Adding certificate verification is strongly advised. See: https://urllib3.readthedocs.io/en/latest/advanced-usage.html#ssl-warnings\n",
            "  InsecureRequestWarning)\n"
          ]
        },
        {
          "output_type": "display_data",
          "data": {
            "text/plain": [
              "<Figure size 432x288 with 0 Axes>"
            ]
          },
          "metadata": {}
        },
        {
          "output_type": "display_data",
          "data": {
            "text/plain": [
              "<Figure size 720x360 with 1 Axes>"
            ],
            "image/png": "[encoded data removed]"
          },
          "metadata": {
            "needs_background": "light"
          }
        }
      ]
    }
  ]
}