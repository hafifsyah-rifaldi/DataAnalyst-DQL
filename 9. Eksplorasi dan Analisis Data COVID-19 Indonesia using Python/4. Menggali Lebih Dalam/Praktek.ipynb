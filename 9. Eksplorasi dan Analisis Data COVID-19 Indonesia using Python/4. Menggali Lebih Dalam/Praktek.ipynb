{
  "nbformat": 4,
  "nbformat_minor": 0,
  "metadata": {
    "colab": {
      "provenance": [],
      "collapsed_sections": []
    },
    "kernelspec": {
      "name": "python3",
      "display_name": "Python 3"
    },
    "language_info": {
      "name": "python"
    }
  },
  "cells": [
    {
      "cell_type": "markdown",
      "source": [
        "**1. Apakah Pekan ini Lebih Baik?**\n",
        "\n",
        "    Info: Dataset telah diperbarui url-nya pada tanggal 6 Juni 2022, \n",
        "    yaitu https://storage.googleapis.com/dqlab-dataset/prov_detail_JAWA_BARAT.json.\n",
        " \n",
        "\n",
        "Setelah mengamati grafik perkembangan kasus Anda menyadari bahwa terjadi fluktuasi pertambahan kasus harian. Dilandasi hal tersebut Anda kemudian ingin mencoba mengamati bagaimana perkembangan kasus dalam rentang waktu pekanan. Bagaimanakah caranya?\n",
        "\n",
        "Anda dapat dengan mudah mengerjakannya Anda sudah dibantu melalui predefined code, yaitu set terlebih dahulu kolom <code>tanggal</code> pada <code>cov_jabar_tidy</code> sebagai index. Kemudian terapkan method pada time series di pandas, resampling per pekan dan gunakan agregasi penjumlahan. Adapun yang akan digunakan untuk mengekstrak informasi pekan dalam satu tahun adalah <code>weekofyear</code> dan <code>year</code> untuk tahun.\n",
        "\n",
        "Lengkapilah baris kode berikut untuk menghitung pertambahan kasus pekanan dan simpanlah hasilnya sebagai <code>cov_jabar_pekanan</code>! Anda juga diminta untuk menggunakan method <code>info()</code> dan <code>.head()</code> untuk melakukan inspeksi data."
      ],
      "metadata": {
        "id": "BqSxs2MttKlj"
      }
    },
    {
      "cell_type": "code",
      "source": [
        "import numpy as np\n",
        "import pandas as pd\n",
        "import requests\n",
        "resp_jabar = requests.get('https://storage.googleapis.com/dqlab-dataset/prov_detail_JAWA_BARAT.json', verify=False)\n",
        "cov_jabar_raw = resp_jabar.json()\n",
        "cov_jabar = pd.DataFrame(cov_jabar_raw['list_perkembangan'])\n",
        "\n",
        "cov_jabar_tidy = (cov_jabar.drop(columns=[item for item in cov_jabar.columns \n",
        "                                               if item.startswith('AKUMULASI') \n",
        "                                                  or item.startswith('DIRAWAT')])\n",
        "                           .rename(columns=str.lower)\n",
        "                           .rename(columns={'kasus': 'kasus_baru'})\n",
        "                  )\n",
        "cov_jabar_tidy['tanggal'] = pd.to_datetime(cov_jabar_tidy['tanggal']*1e6, unit='ns')\n",
        "\n",
        "cov_jabar_pekanan = (cov_jabar_tidy.set_index('tanggal')['kasus_baru']\n",
        "                                   .resample('W')\n",
        "                                   .sum()\n",
        "                                   .reset_index()\n",
        "                                   .rename(columns={'kasus_baru': 'jumlah'})\n",
        "                    )\n",
        "cov_jabar_pekanan['tahun'] = cov_jabar_pekanan['tanggal'].apply(lambda x: x.year)\n",
        "cov_jabar_pekanan['pekan_ke'] = cov_jabar_pekanan['tanggal'].apply(lambda x: x.weekofyear)\n",
        "cov_jabar_pekanan = cov_jabar_pekanan[['tahun', 'pekan_ke', 'jumlah']]\n",
        "\n",
        "print('Info cov_jabar_pekanan:')\n",
        "print(cov_jabar_pekanan.info())\n",
        "print('\\nLima data teratas cov_jabar_pekanan:\\n', cov_jabar_pekanan.head())"
      ],
      "metadata": {
        "colab": {
          "base_uri": "https://localhost:8080/"
        },
        "id": "Ls5LCjxttivR",
        "outputId": "f7cd376c-5062-4c7a-ecf1-63cfc547d8ee"
      },
      "execution_count": 1,
      "outputs": [
        {
          "output_type": "stream",
          "name": "stderr",
          "text": [
            "/usr/local/lib/python3.7/dist-packages/urllib3/connectionpool.py:847: InsecureRequestWarning: Unverified HTTPS request is being made. Adding certificate verification is strongly advised. See: https://urllib3.readthedocs.io/en/latest/advanced-usage.html#ssl-warnings\n",
            "  InsecureRequestWarning)\n"
          ]
        },
        {
          "output_type": "stream",
          "name": "stdout",
          "text": [
            "Info cov_jabar_pekanan:\n",
            "<class 'pandas.core.frame.DataFrame'>\n",
            "RangeIndex: 113 entries, 0 to 112\n",
            "Data columns (total 3 columns):\n",
            " #   Column    Non-Null Count  Dtype\n",
            "---  ------    --------------  -----\n",
            " 0   tahun     113 non-null    int64\n",
            " 1   pekan_ke  113 non-null    int64\n",
            " 2   jumlah    113 non-null    int64\n",
            "dtypes: int64(3)\n",
            "memory usage: 2.8 KB\n",
            "None\n",
            "\n",
            "Lima data teratas cov_jabar_pekanan:\n",
            "    tahun  pekan_ke  jumlah\n",
            "0   2020        10       4\n",
            "1   2020        11       5\n",
            "2   2020        12      44\n",
            "3   2020        13      80\n",
            "4   2020        14      89\n"
          ]
        }
      ]
    },
    {
      "cell_type": "markdown",
      "source": [
        "**2. Menjawab Pertanyaan**\n",
        " \n",
        "\n",
        "Pertanyaan baru muncul di benak Anda setelah melakukan inspeksi terhadap data cov_jabar_pekanan tersebut: \"Apakah pekan ini lebih baik dari pekan kemarin?\"\n",
        "\n",
        "Demi menjawab hal tersebut Anda melakukan kalkulasi sederhana dengan tahapan berikut:\n",
        "\n",
        "- Membuat kolom baru yang berisi jumlah kasus baru dalam satu pekan sebelumnya. Kolom ini diberi nama <code>jumlah_pekanlalu</code>.\n",
        "- Mengganti nilai <code>NaN</code> pada kolom <code>jumlah_pekanlalu</code> dengan nilai 0\n",
        "- Melakukan komparasi antara kolom <code>jumlah</code> dengan kolom <code>jumlah_pekanlalu</code>. Hasil komparasi ini disimpan dalam kolom baru dengan nama <code>lebih_baik</code>, isinya adalah <code>True</code> apabila jumlah kasus baru pekan ini lebih rendah dibandingkan jumlah kasus pekan lalu\n",
        "\n",
        "Lengkapilah baris predefined kode yang diberikan untuk mengerjakan tahapan yang telah Anda rencanakan! Anda akan menggunakan method <code>shift()</code> untuk membuat kolom <code>jumlah_pekanlalu</code>. Inspeksi hasil pekerjaan Anda dengan menggunakan <code>head(10)</code>!"
      ],
      "metadata": {
        "id": "_T-Zf0PBxT0o"
      }
    },
    {
      "cell_type": "code",
      "source": [
        "import numpy as np\n",
        "import pandas as pd\n",
        "import requests\n",
        "resp_jabar = requests.get('https://storage.googleapis.com/dqlab-dataset/prov_detail_JAWA_BARAT.json', verify=False)\n",
        "cov_jabar_raw = resp_jabar.json()\n",
        "cov_jabar = pd.DataFrame(cov_jabar_raw['list_perkembangan'])\n",
        "\n",
        "cov_jabar_tidy = (cov_jabar.drop(columns=[item for item in cov_jabar.columns \n",
        "                                               if item.startswith('AKUMULASI') \n",
        "                                                  or item.startswith('DIRAWAT')])\n",
        "                           .rename(columns=str.lower)\n",
        "                           .rename(columns={'kasus': 'kasus_baru'})\n",
        "                  )\n",
        "cov_jabar_tidy['tanggal'] = pd.to_datetime(cov_jabar_tidy['tanggal']*1e6, unit='ns')\n",
        "\n",
        "cov_jabar_pekanan = (cov_jabar_tidy.set_index('tanggal')['kasus_baru']\n",
        "                                   .resample('W')\n",
        "                                   .sum()\n",
        "                                   .reset_index()\n",
        "                                   .rename(columns={'kasus_baru': 'jumlah'})\n",
        "                    )\n",
        "cov_jabar_pekanan['tahun'] = cov_jabar_pekanan['tanggal'].apply(lambda x: x.year)\n",
        "cov_jabar_pekanan['pekan_ke'] = cov_jabar_pekanan['tanggal'].apply(lambda x: x.weekofyear)\n",
        "cov_jabar_pekanan = cov_jabar_pekanan[['tahun', 'pekan_ke', 'jumlah']]\n",
        "\n",
        "cov_jabar_pekanan['jumlah_pekanlalu'] = cov_jabar_pekanan['jumlah'].shift().replace(np.nan, 0).astype(np.int)\n",
        "cov_jabar_pekanan['lebih_baik'] = cov_jabar_pekanan['jumlah'] < cov_jabar_pekanan['jumlah_pekanlalu']\n",
        "\n",
        "print('Sepuluh data teratas:\\n', cov_jabar_pekanan.head(10))"
      ],
      "metadata": {
        "colab": {
          "base_uri": "https://localhost:8080/"
        },
        "id": "f2MjxLvhx2f9",
        "outputId": "630a7290-2f74-4db6-8438-1ec3ec118806"
      },
      "execution_count": 2,
      "outputs": [
        {
          "output_type": "stream",
          "name": "stdout",
          "text": [
            "Sepuluh data teratas:\n",
            "    tahun  pekan_ke  jumlah  jumlah_pekanlalu  lebih_baik\n",
            "0   2020        10       4                 0       False\n",
            "1   2020        11       5                 4       False\n",
            "2   2020        12      44                 5       False\n",
            "3   2020        13      80                44       False\n",
            "4   2020        14      89                80       False\n",
            "5   2020        15     176                89       False\n",
            "6   2020        16     203               176       False\n",
            "7   2020        17     136               203        True\n",
            "8   2020        18     100               136        True\n",
            "9   2020        19     914               100       False\n"
          ]
        },
        {
          "output_type": "stream",
          "name": "stderr",
          "text": [
            "/usr/local/lib/python3.7/dist-packages/urllib3/connectionpool.py:847: InsecureRequestWarning: Unverified HTTPS request is being made. Adding certificate verification is strongly advised. See: https://urllib3.readthedocs.io/en/latest/advanced-usage.html#ssl-warnings\n",
            "  InsecureRequestWarning)\n",
            "/usr/local/lib/python3.7/dist-packages/ipykernel_launcher.py:26: DeprecationWarning: `np.int` is a deprecated alias for the builtin `int`. To silence this warning, use `int` by itself. Doing this will not modify any behavior and is safe. When replacing `np.int`, you may wish to use e.g. `np.int64` or `np.int32` to specify the precision. If you wish to review your current use, check the release note link for additional information.\n",
            "Deprecated in NumPy 1.20; for more details and guidance: https://numpy.org/devdocs/release/1.20.0-notes.html#deprecations\n"
          ]
        }
      ]
    }
  ]
}