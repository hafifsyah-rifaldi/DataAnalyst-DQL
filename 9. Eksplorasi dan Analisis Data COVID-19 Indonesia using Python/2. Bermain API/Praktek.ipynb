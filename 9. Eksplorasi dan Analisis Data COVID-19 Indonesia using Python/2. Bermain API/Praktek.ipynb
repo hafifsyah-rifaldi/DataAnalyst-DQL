{
  "nbformat": 4,
  "nbformat_minor": 0,
  "metadata": {
    "colab": {
      "provenance": [],
      "collapsed_sections": []
    },
    "kernelspec": {
      "name": "python3",
      "display_name": "Python 3"
    },
    "language_info": {
      "name": "python"
    }
  },
  "cells": [
    {
      "cell_type": "markdown",
      "source": [
        "**Mengakses API covid19.go.id**\n",
        "\n",
        "    Info: Dataset telah diperbarui url-nya pada tanggal 6 Juni 2022, \n",
        "    yaitu https://storage.googleapis.com/dqlab-dataset/update.json.\n",
        "    \n",
        "<br>\n",
        "\n",
        "Rekapitulasi data COVID-19 Indonesia tersedia dalam API publik yang beralamat di https://storage.googleapis.com/dqlab-dataset/update.json.\n",
        "\n",
        "Salah satu cara untuk mengakses API adalah dengan menggunakan fungsi <code>get()</code> dari library <code>requests</code>.\n",
        "\n",
        "Sekarang aktifkanlah library <code>requests</code> dan jalankan fungsi <code>get()</code> pada alamat API yang telah disebutkan! Simpan hasil fungsi tersebut dalam obyek bernama <code>resp</code>."
      ],
      "metadata": {
        "id": "knjJLedl3wax"
      }
    },
    {
      "cell_type": "code",
      "source": [
        "import requests \n",
        "resp = requests.get('https://storage.googleapis.com/dqlab-dataset/update.json', verify=False)"
      ],
      "metadata": {
        "colab": {
          "base_uri": "https://localhost:8080/"
        },
        "id": "ODFvlcy34Tmv",
        "outputId": "3a867ea3-8cc5-48a8-f8bc-00e1b6b493f0"
      },
      "execution_count": 8,
      "outputs": [
        {
          "output_type": "stream",
          "name": "stderr",
          "text": [
            "/usr/local/lib/python3.7/dist-packages/urllib3/connectionpool.py:847: InsecureRequestWarning: Unverified HTTPS request is being made. Adding certificate verification is strongly advised. See: https://urllib3.readthedocs.io/en/latest/advanced-usage.html#ssl-warnings\n",
            "  InsecureRequestWarning)\n"
          ]
        }
      ]
    },
    {
      "cell_type": "markdown",
      "source": [
        "**Mengevaluasi Respon**\n",
        "\n",
        "Saat Anda menjalankan fungsi <code>get()</code>, pada dasarnya hal yang terjadi adalah Anda membuat sebuah permintaan kepada server penyedia API. Permintaan Anda tersebut selanjutnya diproses dan dijawab oleh server sebagai sebuah respon. Objek <code>resp</code> yang telah Anda buat memiliki informasi respon oleh server.\n",
        "\n",
        "Ada tiga informasi utama dalam sebuah respon API, yaitu **status**, **headers**, dan **body**. Status memiliki informasi apakah permintaan Anda berhasil atau tidak dan dinyatakan dalam status code, headers umumnya mengandung informasi metadata, sedangkan body berisikan konten atas permintaan yang telah dibuat.\n",
        "\n"
      ],
      "metadata": {
        "id": "AfRUj-xG4vEZ"
      }
    },
    {
      "cell_type": "markdown",
      "source": [
        "**Menguji Pemahaman akan Respon**\n",
        "\n",
        "Benar atau salahkah bahwa informasi metadata disimpan di dalam *body*? \n",
        "\n",
        "JAWABAN\n",
        "\n",
        "- TRUE\n",
        "\n",
        "- ***FALSE***"
      ],
      "metadata": {
        "id": "YKlnk1fm5I-1"
      }
    },
    {
      "cell_type": "markdown",
      "source": [
        "**Status Code**\n",
        "\n",
        "Ada beberapa jenis status code yang umumnya dijumpai, antara lain:\n",
        "\n",
        "    200. Artinya permintaan sukses dipenuhi.\n",
        "    404. Artinya berkas yang diminta tidak dapat ditemukan.\n",
        "    500. Artinya akses permintaan ditolak.\n",
        "    501. Artinya terjadi kesalahan pada server.\n",
        "    Informasi lengkap mengenai jenis-jenis status code dapat Anda pelajari di https://restfulapi.net/http-status-codes/\n",
        "\n",
        "Anda dapat mencetak <code>resp</code> secara langsung yang telah memberikan output status atas permintaan Anda melalui API. Sekarang coba lihatlah status atas permintaan yang telah Anda buat! Apakah permintaan Anda berhasil?"
      ],
      "metadata": {
        "id": "2iOAXTXk5c0d"
      }
    },
    {
      "cell_type": "code",
      "source": [
        "import requests\n",
        "resp = requests.get('https://storage.googleapis.com/dqlab-dataset/update.json', verify=False)\n",
        "print(resp)"
      ],
      "metadata": {
        "colab": {
          "base_uri": "https://localhost:8080/"
        },
        "id": "flrPBwEA47be",
        "outputId": "0841dd2d-4e8a-4aba-a317-2bbcfab480e7"
      },
      "execution_count": 9,
      "outputs": [
        {
          "output_type": "stream",
          "name": "stdout",
          "text": [
            "<Response [200]>\n"
          ]
        },
        {
          "output_type": "stream",
          "name": "stderr",
          "text": [
            "/usr/local/lib/python3.7/dist-packages/urllib3/connectionpool.py:847: InsecureRequestWarning: Unverified HTTPS request is being made. Adding certificate verification is strongly advised. See: https://urllib3.readthedocs.io/en/latest/advanced-usage.html#ssl-warnings\n",
            "  InsecureRequestWarning)\n"
          ]
        }
      ]
    },
    {
      "cell_type": "markdown",
      "source": [],
      "metadata": {
        "id": "aC_6sGnw6vao"
      }
    },
    {
      "cell_type": "markdown",
      "source": [
        "**Headers API**\n",
        "\n",
        "Selamat status permintaan Anda melalui API sukses dipenuhi! Sekarang cobalah Anda jalankan attribut <code>headers</code> pada <code>resp</code> untuk mengetahui metadata apa saja yang tersimpan. Tampilkan dengan menggunakan fungsi print. \n",
        "\n",
        "Apakah isi dari elemen <code>content-type</code>?\n",
        "\n",
        "Kapan terakhir kali informasi diperbaharui?"
      ],
      "metadata": {
        "id": "uYU2uqeO9xC1"
      }
    },
    {
      "cell_type": "code",
      "source": [
        "import requests\n",
        "resp = requests.get('https://storage.googleapis.com/dqlab-dataset/update.json', verify=False)\n",
        "print(resp.headers)"
      ],
      "metadata": {
        "colab": {
          "base_uri": "https://localhost:8080/"
        },
        "id": "_iuc4bQG97fB",
        "outputId": "b7e537eb-54c3-4485-d5ad-2110b5a2fbc8"
      },
      "execution_count": 10,
      "outputs": [
        {
          "output_type": "stream",
          "name": "stdout",
          "text": [
            "{'X-GUploader-UploadID': 'ADPycdsGt6wO-qSgQUNoddTJVE31-tM8wKgOArbzREHRYebV_Wr5x0fnVpXu0mlyv7tDHBlrF8uoSklBd121S2M91UJGZe3LiD6g', 'x-goog-generation': '1654513959565478', 'x-goog-metageneration': '1', 'x-goog-stored-content-encoding': 'identity', 'x-goog-stored-content-length': '311897', 'x-goog-hash': 'crc32c=GMMqEA==, md5=8aR/820+lfYyWNlv5bLUOQ==', 'x-goog-storage-class': 'STANDARD', 'Accept-Ranges': 'bytes', 'Content-Length': '311897', 'Server': 'UploadServer', 'Date': 'Wed, 19 Oct 2022 06:14:08 GMT', 'Expires': 'Wed, 19 Oct 2022 07:14:08 GMT', 'Cache-Control': 'public, max-age=3600', 'Last-Modified': 'Mon, 06 Jun 2022 11:12:39 GMT', 'ETag': '\"f1a47ff36d3e95f63258d96fe5b2d439\"', 'Content-Type': 'application/json', 'Age': '1519'}\n"
          ]
        },
        {
          "output_type": "stream",
          "name": "stderr",
          "text": [
            "/usr/local/lib/python3.7/dist-packages/urllib3/connectionpool.py:847: InsecureRequestWarning: Unverified HTTPS request is being made. Adding certificate verification is strongly advised. See: https://urllib3.readthedocs.io/en/latest/advanced-usage.html#ssl-warnings\n",
            "  InsecureRequestWarning)\n"
          ]
        }
      ]
    },
    {
      "cell_type": "markdown",
      "source": [
        "**Mengekstrak Isi Respon**\n",
        "\n",
        "\n",
        "Respon API dengan status code <code>200</code> menyatakan bahwa permintaan Anda berhasil dipenuhi dan konten yang diminta tersedia untuk diekstrak. Selain itu Anda juga telah mengetahui lewat attribut <code>headers</code> bahwa konten yang diminta tersedia dalam bentuk <code>application/json</code>, yaitu berkas <code>JSON</code>.\n",
        "\n",
        "Selanjutnya Anda dapat mengekstrak konten tersebut dengan menggunakan method <code>json()</code>. Method <code>json()</code> merupakan builtin JSON decoder untuk mengekstrak content bertipe JSON. Anda juga dapat menggunakan attribut <code>content</code> tetapi ini berupa binary content yang perlu Anda proses kembali nantinya. Jalankan method <code>json()</code> pada obyek <code>resp</code> dan simpanlah hasilnya sebagai <code>cov_id_raw</code>!\n",
        "\n",
        "<code>cov_id_raw</code> ini bertipe data <code>dict</code>."
      ],
      "metadata": {
        "id": "c3hYkrhK_hlR"
      }
    },
    {
      "cell_type": "code",
      "source": [
        "import requests\n",
        "resp = requests.get('https://storage.googleapis.com/dqlab-dataset/update.json', verify=False)\n",
        "\n",
        "cov_id_raw = resp.json()"
      ],
      "metadata": {
        "colab": {
          "base_uri": "https://localhost:8080/"
        },
        "id": "J2msRTFXAFpD",
        "outputId": "19883ba2-1617-4f13-e391-2bfd8cca0709"
      },
      "execution_count": 11,
      "outputs": [
        {
          "output_type": "stream",
          "name": "stderr",
          "text": [
            "/usr/local/lib/python3.7/dist-packages/urllib3/connectionpool.py:847: InsecureRequestWarning: Unverified HTTPS request is being made. Adding certificate verification is strongly advised. See: https://urllib3.readthedocs.io/en/latest/advanced-usage.html#ssl-warnings\n",
            "  InsecureRequestWarning)\n"
          ]
        }
      ]
    },
    {
      "cell_type": "markdown",
      "source": [
        "**Mengekstrak isi Respon - 2**\n",
        "\n",
        "\n",
        "Dengan menggunakan fungsi <code>len()</code> dan method <code>keys()</code> cobalah amati ada berapa komponen serta apa saja nama komponen dalam obyek <code>cov_id_raw</code> tersebut! Kemudian ekstraklah key ke-2 dan simpan dengan nama <code>cov_id_update</code>."
      ],
      "metadata": {
        "id": "YZu64xk7Hk4X"
      }
    },
    {
      "cell_type": "code",
      "source": [
        "import requests\n",
        "resp = requests.get('https://storage.googleapis.com/dqlab-dataset/update.json', verify=False)\n",
        "cov_id_raw = resp.json()\n",
        "\n",
        "print('Length of cov_id_raw : %d.' %len(cov_id_raw))\n",
        "print('Komponen cov_id_raw  : %s.' %cov_id_raw.keys())\n",
        "cov_id_update = cov_id_raw['update']"
      ],
      "metadata": {
        "colab": {
          "base_uri": "https://localhost:8080/"
        },
        "id": "eQ21ye4HHwdI",
        "outputId": "b95e977b-ce62-4022-f281-a7e29a42a126"
      },
      "execution_count": 12,
      "outputs": [
        {
          "output_type": "stream",
          "name": "stderr",
          "text": [
            "/usr/local/lib/python3.7/dist-packages/urllib3/connectionpool.py:847: InsecureRequestWarning: Unverified HTTPS request is being made. Adding certificate verification is strongly advised. See: https://urllib3.readthedocs.io/en/latest/advanced-usage.html#ssl-warnings\n",
            "  InsecureRequestWarning)\n"
          ]
        },
        {
          "output_type": "stream",
          "name": "stdout",
          "text": [
            "Length of cov_id_raw : 2.\n",
            "Komponen cov_id_raw  : dict_keys(['data', 'update']).\n"
          ]
        }
      ]
    },
    {
      "cell_type": "markdown",
      "source": [
        "**Analisa Data**\n",
        "\n",
        "Sekarang Anda diminta untuk fokus pada obyek <code>cov_id_update</code> untuk menjawab pertanyaan-pertanyaan berikut:\n",
        "\n",
        "- Kapan tanggal pembaharuan data penambahan kasus?\n",
        "- Berapa jumlah penambahan kasus sembuh?\n",
        "- Berapa jumlah penambahan kasus meninggal?\n",
        "- Berapa jumlah total kasus positif hingga saat ini?\n",
        "- Berapa jumlah total kasus meninggal hingga saat ini?"
      ],
      "metadata": {
        "id": "54CTauGFKXRg"
      }
    },
    {
      "cell_type": "code",
      "source": [
        "import requests\n",
        "resp = requests.get('https://storage.googleapis.com/dqlab-dataset/update.json', verify=False)\n",
        "cov_id_raw = resp.json()\n",
        "cov_id_update = cov_id_raw['update']\n",
        "\n",
        "print('Tanggal pembaharuan data penambahan kasus   :', cov_id_update['penambahan']['tanggal'])\n",
        "print('Jumlah penambahan kasus sembuh  :', cov_id_update['penambahan']['jumlah_sembuh'])\n",
        "print('Jumlah penambahan kasus meninggal  :', cov_id_update['penambahan']['jumlah_meninggal'])\n",
        "print('Jumlah total kasus positif hingga saat ini  :', cov_id_update['total']['jumlah_positif'])\n",
        "print('Jumlah total kasus meninggal hingga saat ini  :', cov_id_update['total']['jumlah_meninggal'])"
      ],
      "metadata": {
        "colab": {
          "base_uri": "https://localhost:8080/"
        },
        "id": "Auz1OPEIKgAd",
        "outputId": "72d7edf2-7fe0-4247-9104-9b33cbb569a2"
      },
      "execution_count": 13,
      "outputs": [
        {
          "output_type": "stream",
          "name": "stdout",
          "text": [
            "Tanggal pembaharuan data penambahan kasus   : 2022-05-14\n",
            "Jumlah penambahan kasus sembuh  : 416\n",
            "Jumlah penambahan kasus meninggal  : 5\n",
            "Jumlah total kasus positif hingga saat ini  : 6050519\n",
            "Jumlah total kasus meninggal hingga saat ini  : 156453\n"
          ]
        },
        {
          "output_type": "stream",
          "name": "stderr",
          "text": [
            "/usr/local/lib/python3.7/dist-packages/urllib3/connectionpool.py:847: InsecureRequestWarning: Unverified HTTPS request is being made. Adding certificate verification is strongly advised. See: https://urllib3.readthedocs.io/en/latest/advanced-usage.html#ssl-warnings\n",
            "  InsecureRequestWarning)\n"
          ]
        }
      ]
    },
    {
      "cell_type": "markdown",
      "source": [
        "**Lawan COVID-19!**\n",
        "\n",
        "Jumlah masyarakat yang terinfeksi dan meninggal akibat COVID-19 sudah sangat banyak! Kita harus waspada namun tetap tenang dalam menghadapi masa pandemi ini. Masih ingatkah Anda apa 3 langkah sederhana melawan COVID-19?\n",
        "\n",
        "**Cuci tangan, pakai masker, dan jaga jarak.**\n",
        "\n"
      ],
      "metadata": {
        "id": "Or6o_cmLKm_A"
      }
    }
  ]
}