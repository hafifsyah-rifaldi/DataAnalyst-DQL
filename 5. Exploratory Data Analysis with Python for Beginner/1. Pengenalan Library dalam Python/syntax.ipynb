{
 "cells": [
  {
   "cell_type": "markdown",
   "metadata": {},
   "source": [
    "**Memanggil library di Python**\n",
    "Sebelum dapat digunakan, library tersebut harus terlebih dahulu dipanggil ke dalam lingkungan Python. Command untuk memanggil library di Python menggunakan syntax (menggunakan huruf kecil):\n",
    "```\n",
    "import library_name as alias\n",
    "```\n",
    "**Alias** berfungsi sebagai pengganti nama library, sehingga menghemat komputasi saat ***function*** dari library tersebut dipanggil."
   ]
  },
  {
   "cell_type": "markdown",
   "metadata": {},
   "source": [
    "**Tugas Praktek**\n",
    "Cobalah untuk mengimport library **numpy** dan **pandas** menggunakan alias **np** dan **pd** masing-masingnya."
   ]
  },
  {
   "cell_type": "code",
   "execution_count": null,
   "metadata": {
    "vscode": {
     "languageId": "plaintext"
    }
   },
   "outputs": [],
   "source": [
    "import numpy as np\n",
    "import pandas as pd"
   ]
  }
 ],
 "metadata": {
  "language_info": {
   "name": "python"
  },
  "orig_nbformat": 4
 },
 "nbformat": 4,
 "nbformat_minor": 2
}
