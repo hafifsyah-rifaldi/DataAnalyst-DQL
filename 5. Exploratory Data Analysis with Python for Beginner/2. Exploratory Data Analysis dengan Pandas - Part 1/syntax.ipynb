{
 "cells": [
  {
   "cell_type": "markdown",
   "metadata": {},
   "source": [
    "**Tugas Praktek**<br>\n",
    "Cobalah untuk mengimport dataset marketplace ABC dari **order.csv** dan disimpan ke dalam dataframe bernama **order_df**.<br>\n",
    "\n",
    "Notes : untuk dataset diinput dari link berikut **\"https://storage.googleapis.com/dqlab-dataset/order.csv\"**."
   ]
  },
  {
   "cell_type": "code",
   "execution_count": null,
   "metadata": {
    "vscode": {
     "languageId": "plaintext"
    }
   },
   "outputs": [],
   "source": [
    "import pandas as pd\n",
    "order_df = pd.read_csv(\"https://storage.googleapis.com/dqlab-dataset/order.csv\")"
   ]
  }
 ],
 "metadata": {
  "language_info": {
   "name": "python"
  },
  "orig_nbformat": 4
 },
 "nbformat": 4,
 "nbformat_minor": 2
}
