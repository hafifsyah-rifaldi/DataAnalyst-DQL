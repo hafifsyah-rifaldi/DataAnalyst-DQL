{
 "cells": [
  {
   "cell_type": "markdown",
   "metadata": {},
   "source": [
    "**1. Tugas Praktek**<br>\n",
    "Cobalah untuk mengimport dataset marketplace ABC dari **order.csv** dan disimpan ke dalam dataframe bernama **order_df**.<br>\n",
    "\n",
    "Notes : untuk dataset diinput dari link berikut **\"https://storage.googleapis.com/dqlab-dataset/order.csv\"**."
   ]
  },
  {
   "cell_type": "code",
   "execution_count": null,
   "metadata": {
    "vscode": {
     "languageId": "plaintext"
    }
   },
   "outputs": [],
   "source": [
    "import pandas as pd\n",
    "order_df = pd.read_csv(\"https://storage.googleapis.com/dqlab-dataset/order.csv\")"
   ]
  },
  {
   "cell_type": "markdown",
   "metadata": {},
   "source": [
    "**2. Tugas Praktek**<br>\n",
    "Cobalah untuk order dataframe dengan menuliskan syntax Python untuk melihat struktur dari **order_df** dengan menggunakan fungsi **shape**!\n",
    "\n",
    " "
   ]
  },
  {
   "cell_type": "code",
   "execution_count": null,
   "metadata": {
    "vscode": {
     "languageId": "plaintext"
    }
   },
   "outputs": [],
   "source": [
    "import pandas as pd\n",
    "order_df = pd.read_csv(\"https://storage.googleapis.com/dqlab-dataset/order.csv\")\n",
    "print(order_df.shape)"
   ]
  },
  {
   "cell_type": "markdown",
   "metadata": {},
   "source": [
    "**3. Tugas Praktek** <br>\n",
    "Cobalah untuk check bagaimana contoh data dari dataframe tersebut dengan fungsi **head** dengan **limit 10 baris**!"
   ]
  },
  {
   "cell_type": "code",
   "execution_count": null,
   "metadata": {
    "vscode": {
     "languageId": "plaintext"
    }
   },
   "outputs": [],
   "source": [
    "import pandas as pd\n",
    "order_df = pd.read_csv(\"https://storage.googleapis.com/dqlab-dataset/order.csv\")\n",
    "print(order_df.head(10))"
   ]
  }
 ],
 "metadata": {
  "language_info": {
   "name": "python"
  },
  "orig_nbformat": 4
 },
 "nbformat": 4,
 "nbformat_minor": 2
}
